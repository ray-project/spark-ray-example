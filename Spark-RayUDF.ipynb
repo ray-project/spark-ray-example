{
 "cells": [
  {
   "cell_type": "markdown",
   "metadata": {},
   "source": [
    "# Use Ray in PySpark\n",
    "\n",
    "Spark + AI Summit 2020 talk, \n",
    "[Dean Wampler](mailto:dean@anyscale.com)\n",
    "\n",
    "This notebook demonstrates one way to integrate Ray and PySpark applications, where Ray is embedded in a _UDF_. The use case simulates the requirement for _data governance_, where we want to trace each record processed by a PySpark job. \n",
    "\n",
    "Another, more conventional way to meet this requirement is to run a separate webservice and make remote calls to it (usually over HTTP). This approach is demonstrated in the `ray-serve` directory. (See the [README](README.md) for details.)\n",
    "\n",
    "This notebook embeds Ray in a UDF, where the Ray cluster is co-resident on the same nodes as PySpark. We'll actually just use a single machine, but the results generalize to real cluster deployments with minor changes (noted where applicable).\n",
    "\n",
    "Why use this approach instead of the standalone system? Here are the pros and cons:\n",
    "\n",
    "**Pros:**\n",
    "* Avoiding a network/HTTP call may be more efficient in many cases.\n",
    "* Fewer services to manage. Once PySpark and Ray clusters are setup, you can allow them to do all the scaling and distribution required. Spark handles the data partitions, Ray handles distribution of the other tasks and object graphs (for distributed state).\n",
    "\n",
    "**Cons:**\n",
    "* You might prefer explicitly separate services for runtime visibility and independent management. For example, it's easier to upgrade a separate web service behind a router, whereas in the example here the PySpark and Data Governance \"hook\" are more closely linked.\n",
    "\n",
    "You can learn more about Ray [here](http://ray.io)."
   ]
  },
  {
   "cell_type": "markdown",
   "metadata": {},
   "source": [
    "> **Note:** Requires Java 8!"
   ]
  },
  {
   "cell_type": "code",
   "execution_count": 1,
   "metadata": {},
   "outputs": [
    {
     "name": "stdout",
     "output_type": "stream",
     "text": [
      "java version \"1.8.0_221\"\n",
      "Java(TM) SE Runtime Environment (build 1.8.0_221-b11)\n",
      "Java HotSpot(TM) 64-Bit Server VM (build 25.221-b11, mixed mode)\n"
     ]
    }
   ],
   "source": [
    "!java -version"
   ]
  },
  {
   "cell_type": "code",
   "execution_count": 2,
   "metadata": {},
   "outputs": [],
   "source": [
    "import json, time\n",
    "import pyspark\n",
    "import ray\n",
    "from ray.util import named_actors"
   ]
  },
  {
   "cell_type": "code",
   "execution_count": 3,
   "metadata": {},
   "outputs": [],
   "source": [
    "from pyspark.sql.types import DataType, BooleanType, NullType, IntegerType, StringType, MapType"
   ]
  },
  {
   "cell_type": "code",
   "execution_count": 4,
   "metadata": {},
   "outputs": [],
   "source": [
    "from pyspark.sql.functions import udf"
   ]
  },
  {
   "cell_type": "markdown",
   "metadata": {},
   "source": [
    "Define a `DataGovernanceSystem` Ray actor that represents our governance system. (This is also defined in the file `data_governance_system.py`.) All it does is add each reported `id` to an internal collection. \n",
    "\n",
    "In a more realistic implementation, this class would be a \"hook\" that forwards the ids and other useful metadata asynchronously to a real governance system, like [Apache Atlas](http://atlas.apache.org/#/). "
   ]
  },
  {
   "cell_type": "code",
   "execution_count": 5,
   "metadata": {},
   "outputs": [],
   "source": [
    "@ray.remote\n",
    "class DataGovernanceSystem:\n",
    "    def __init__(self, name = 'DataGovernanceSystem'):\n",
    "        self.name = name\n",
    "        self.ids = []\n",
    "        self.start_time = time.time()\n",
    "\n",
    "    def log(self, id_to_log):\n",
    "        \"\"\"\n",
    "        Log record ids that have been processed.\n",
    "        Returns the new count.\n",
    "        \"\"\"\n",
    "        self.ids.append(id_to_log)\n",
    "        return self.get_count()\n",
    "\n",
    "    def get_ids(self):\n",
    "        \"\"\"Return the ids logged. Don't call this if the list is long!\"\"\"\n",
    "        return self.ids\n",
    "\n",
    "    def get_count(self):\n",
    "        \"\"\"Return the count of ids logged.\"\"\"\n",
    "        return len(self.ids)\n",
    "\n",
    "    def reset(self):\n",
    "        \"\"\"Forget all ids that have been logged.\"\"\"\n",
    "        self.ids = []\n",
    "\n",
    "    def get_start_time(self):\n",
    "        return self.start_time\n",
    "\n",
    "    def get_up_time(self):\n",
    "        return time.time() - self.start_time"
   ]
  },
  {
   "cell_type": "markdown",
   "metadata": {},
   "source": [
    "Define a simple `Record` type with a `record_id` field, used for logging to `DataGovernanceSystem`, and an opaque `data` field with everything else."
   ]
  },
  {
   "cell_type": "code",
   "execution_count": 6,
   "metadata": {},
   "outputs": [],
   "source": [
    "class Record:\n",
    "    def __init__(self, record_id, data):\n",
    "        self.record_id = record_id\n",
    "        self.data = data\n",
    "    def __str__(self):\n",
    "        return f'Record(record_id={self.record_id},data={self.data})'"
   ]
  },
  {
   "cell_type": "markdown",
   "metadata": {},
   "source": [
    "Now initialize Ray. We'll run it locally, but in a Ray cluster, passing `address='auto'` tells Ray to connect to the cluster. (If this node isn't part of that cluster, i.e., Ray isn't already running on this node, then pass the correct server address and port.)"
   ]
  },
  {
   "cell_type": "code",
   "execution_count": 7,
   "metadata": {},
   "outputs": [
    {
     "name": "stderr",
     "output_type": "stream",
     "text": [
      "2020-05-18 07:35:17,052\tINFO resource_spec.py:212 -- Starting Ray with 4.3 GiB memory available for workers and up to 2.17 GiB for objects. You can adjust these settings with ray.init(memory=<bytes>, object_store_memory=<bytes>).\n",
      "2020-05-18 07:35:17,419\tINFO services.py:1170 -- View the Ray dashboard at \u001b[1m\u001b[32mlocalhost:8265\u001b[39m\u001b[22m\n"
     ]
    },
    {
     "data": {
      "text/plain": [
       "{'node_ip_address': '192.168.1.149',\n",
       " 'raylet_ip_address': '192.168.1.149',\n",
       " 'redis_address': '192.168.1.149:57936',\n",
       " 'object_store_address': '/tmp/ray/session_2020-05-18_07-35-17_042246_77727/sockets/plasma_store',\n",
       " 'raylet_socket_name': '/tmp/ray/session_2020-05-18_07-35-17_042246_77727/sockets/raylet',\n",
       " 'webui_url': 'localhost:8265',\n",
       " 'session_dir': '/tmp/ray/session_2020-05-18_07-35-17_042246_77727'}"
      ]
     },
     "execution_count": 7,
     "metadata": {},
     "output_type": "execute_result"
    }
   ],
   "source": [
    "ray.init(ignore_reinit_error=True) # The `ignore_reinit_error=True` lets us rerun this cell without error..."
   ]
  },
  {
   "cell_type": "code",
   "execution_count": 8,
   "metadata": {},
   "outputs": [
    {
     "name": "stdout",
     "output_type": "stream",
     "text": [
      "Click here to open the Ray Dashboard: http://localhost:8265\n"
     ]
    }
   ],
   "source": [
    "print(f'Click here to open the Ray Dashboard: http://{ray.get_webui_url()}')"
   ]
  },
  {
   "cell_type": "code",
   "execution_count": 9,
   "metadata": {},
   "outputs": [
    {
     "data": {
      "text/plain": [
       "Actor(DataGovernanceSystem, 45b95b1c0100)"
      ]
     },
     "execution_count": 9,
     "metadata": {},
     "output_type": "execute_result"
    }
   ],
   "source": [
    "actor_name = 'dgs'\n",
    "gov = DataGovernanceSystem.remote(actor_name)\n",
    "named_actors.register_actor(actor_name, gov)\n",
    "gov"
   ]
  },
  {
   "cell_type": "code",
   "execution_count": 10,
   "metadata": {},
   "outputs": [
    {
     "name": "stdout",
     "output_type": "stream",
     "text": [
      "Record(record_id=0,data=data: 0)\n",
      "Record(record_id=1,data=data: 1)\n",
      "Record(record_id=2,data=data: 2)\n"
     ]
    }
   ],
   "source": [
    "test_records = [Record(i, f'data: {i}') for i in range(3)] \n",
    "for record in test_records:\n",
    "    print(record)\n",
    "    gov.log.remote(record.record_id)"
   ]
  },
  {
   "cell_type": "code",
   "execution_count": 11,
   "metadata": {},
   "outputs": [],
   "source": [
    "def gov_status():\n",
    "    gov = named_actors.get_actor(name='dgs')\n",
    "    print(f'count:   {ray.get(gov.get_count.remote())}')\n",
    "    print(f'ids:     {ray.get(gov.get_ids.remote())}')\n",
    "    print(f'up time: {ray.get(gov.get_up_time.remote())}')"
   ]
  },
  {
   "cell_type": "code",
   "execution_count": 12,
   "metadata": {},
   "outputs": [
    {
     "name": "stdout",
     "output_type": "stream",
     "text": [
      "count:   3\n",
      "ids:     [0, 1, 2]\n",
      "up time: 7.880530118942261\n"
     ]
    }
   ],
   "source": [
    "gov_status()"
   ]
  },
  {
   "cell_type": "markdown",
   "metadata": {},
   "source": [
    "Reset the server:"
   ]
  },
  {
   "cell_type": "code",
   "execution_count": 13,
   "metadata": {},
   "outputs": [
    {
     "name": "stdout",
     "output_type": "stream",
     "text": [
      "count:   0\n",
      "ids:     []\n",
      "up time: 9.221529960632324\n"
     ]
    }
   ],
   "source": [
    "gov.reset.remote()\n",
    "gov_status()"
   ]
  },
  {
   "cell_type": "code",
   "execution_count": 14,
   "metadata": {},
   "outputs": [],
   "source": [
    "def log_record(id):\n",
    "    \"\"\"\n",
    "    This function will become a UDF for Spark. Since each Spark task runs in a separate process, \n",
    "    we'll initialize Ray, connecting to the running cluster, if it is not already initialized.\n",
    "    \"\"\"\n",
    "    from ray.util import named_actors\n",
    "    did_initialization = 0\n",
    "    if not ray.is_initialized():\n",
    "        ray.init(address='auto', redis_password='5241590000000000')\n",
    "        did_initialization = 1\n",
    "        \n",
    "    gov = named_actors.get_actor(name='dgs')\n",
    "    count_id = gov.log.remote(id)   # Runs asynchronously, returning an object id for a future.\n",
    "    count = ray.get(count_id)       # But this blocks!\n",
    "    return {'initialized': did_initialization, 'count': count}"
   ]
  },
  {
   "cell_type": "code",
   "execution_count": 15,
   "metadata": {},
   "outputs": [],
   "source": [
    "spark = pyspark.sql.SparkSession.builder \\\n",
    "    .master(\"local[*]\") \\\n",
    "    .appName(\"Data Governance Example\") \\\n",
    "    .getOrCreate()"
   ]
  },
  {
   "cell_type": "code",
   "execution_count": 16,
   "metadata": {},
   "outputs": [],
   "source": [
    "log_record_udf = udf(lambda id: log_record(id), MapType(StringType(), IntegerType()))"
   ]
  },
  {
   "cell_type": "code",
   "execution_count": 17,
   "metadata": {},
   "outputs": [],
   "source": [
    "num_records=50"
   ]
  },
  {
   "cell_type": "code",
   "execution_count": 18,
   "metadata": {},
   "outputs": [],
   "source": [
    "records = [Record(i, f'str: {i}') for i in range(num_records)] "
   ]
  },
  {
   "cell_type": "code",
   "execution_count": 19,
   "metadata": {},
   "outputs": [],
   "source": [
    "df = spark.createDataFrame(records, ['id', 'data'])"
   ]
  },
  {
   "cell_type": "code",
   "execution_count": 20,
   "metadata": {},
   "outputs": [],
   "source": [
    "df_ray = df.select('id', 'data', log_record_udf('id').alias('logged'))"
   ]
  },
  {
   "cell_type": "code",
   "execution_count": 21,
   "metadata": {},
   "outputs": [
    {
     "data": {
      "text/plain": [
       "DataFrame[id: string, data: bigint, logged: map<string,int>]"
      ]
     },
     "metadata": {},
     "output_type": "display_data"
    }
   ],
   "source": [
    "display(df_ray)"
   ]
  },
  {
   "cell_type": "code",
   "execution_count": 22,
   "metadata": {},
   "outputs": [
    {
     "name": "stdout",
     "output_type": "stream",
     "text": [
      "+-------+----+-------------------------------+\n",
      "|id     |data|logged                         |\n",
      "+-------+----+-------------------------------+\n",
      "|str: 0 |0   |[count -> 1, initialized -> 1] |\n",
      "|str: 1 |1   |[count -> 2, initialized -> 0] |\n",
      "|str: 2 |2   |[count -> 3, initialized -> 0] |\n",
      "|str: 3 |3   |[count -> 4, initialized -> 0] |\n",
      "|str: 4 |4   |[count -> 5, initialized -> 0] |\n",
      "|str: 5 |5   |[count -> 6, initialized -> 0] |\n",
      "|str: 6 |6   |[count -> 13, initialized -> 1]|\n",
      "|str: 7 |7   |[count -> 14, initialized -> 0]|\n",
      "|str: 8 |8   |[count -> 15, initialized -> 0]|\n",
      "|str: 9 |9   |[count -> 16, initialized -> 0]|\n",
      "|str: 10|10  |[count -> 18, initialized -> 0]|\n",
      "|str: 11|11  |[count -> 21, initialized -> 0]|\n",
      "|str: 12|12  |[count -> 20, initialized -> 1]|\n",
      "|str: 13|13  |[count -> 23, initialized -> 0]|\n",
      "|str: 14|14  |[count -> 25, initialized -> 0]|\n",
      "|str: 15|15  |[count -> 27, initialized -> 0]|\n",
      "|str: 16|16  |[count -> 29, initialized -> 0]|\n",
      "|str: 17|17  |[count -> 30, initialized -> 0]|\n",
      "|str: 18|18  |[count -> 7, initialized -> 0] |\n",
      "|str: 19|19  |[count -> 8, initialized -> 0] |\n",
      "|str: 20|20  |[count -> 9, initialized -> 0] |\n",
      "|str: 21|21  |[count -> 10, initialized -> 0]|\n",
      "|str: 22|22  |[count -> 11, initialized -> 0]|\n",
      "|str: 23|23  |[count -> 12, initialized -> 0]|\n",
      "|str: 24|24  |[count -> 17, initialized -> 1]|\n",
      "|str: 25|25  |[count -> 19, initialized -> 0]|\n",
      "|str: 26|26  |[count -> 22, initialized -> 0]|\n",
      "|str: 27|27  |[count -> 24, initialized -> 0]|\n",
      "|str: 28|28  |[count -> 26, initialized -> 0]|\n",
      "|str: 29|29  |[count -> 28, initialized -> 0]|\n",
      "|str: 30|30  |[count -> 31, initialized -> 0]|\n",
      "|str: 31|31  |[count -> 32, initialized -> 0]|\n",
      "|str: 32|32  |[count -> 35, initialized -> 0]|\n",
      "|str: 33|33  |[count -> 38, initialized -> 0]|\n",
      "|str: 34|34  |[count -> 41, initialized -> 0]|\n",
      "|str: 35|35  |[count -> 44, initialized -> 0]|\n",
      "|str: 36|36  |[count -> 33, initialized -> 0]|\n",
      "|str: 37|37  |[count -> 36, initialized -> 0]|\n",
      "|str: 38|38  |[count -> 39, initialized -> 0]|\n",
      "|str: 39|39  |[count -> 42, initialized -> 0]|\n",
      "|str: 40|40  |[count -> 45, initialized -> 0]|\n",
      "|str: 41|41  |[count -> 47, initialized -> 0]|\n",
      "|str: 42|42  |[count -> 34, initialized -> 0]|\n",
      "|str: 43|43  |[count -> 37, initialized -> 0]|\n",
      "|str: 44|44  |[count -> 40, initialized -> 0]|\n",
      "|str: 45|45  |[count -> 43, initialized -> 0]|\n",
      "|str: 46|46  |[count -> 46, initialized -> 0]|\n",
      "|str: 47|47  |[count -> 48, initialized -> 0]|\n",
      "|str: 48|48  |[count -> 49, initialized -> 0]|\n",
      "|str: 49|49  |[count -> 50, initialized -> 0]|\n",
      "+-------+----+-------------------------------+\n",
      "\n",
      "CPU times: user 47.9 ms, sys: 19.6 ms, total: 67.5 ms\n",
      "Wall time: 2.8 s\n"
     ]
    }
   ],
   "source": [
    "%time df_ray.show(n=num_records, truncate=False)"
   ]
  },
  {
   "cell_type": "markdown",
   "metadata": {},
   "source": [
    "As you can see in the `logged` column, there are several PySpark processes (four on my laptop), each of which initializes Ray once.\n",
    "\n",
    "You probably also see that the `count` values are out of order, because updates happen asynchronously from several PySpark tasks to the single `DataGovernanceSystem` actor, but Ray's actor model handles thread-safe updates, so that the final count is correct! "
   ]
  },
  {
   "cell_type": "code",
   "execution_count": 23,
   "metadata": {},
   "outputs": [
    {
     "name": "stdout",
     "output_type": "stream",
     "text": [
      "count:   50\n",
      "ids:     ['str: 0', 'str: 1', 'str: 2', 'str: 3', 'str: 4', 'str: 5', 'str: 18', 'str: 19', 'str: 20', 'str: 21', 'str: 22', 'str: 23', 'str: 6', 'str: 7', 'str: 8', 'str: 9', 'str: 24', 'str: 10', 'str: 25', 'str: 12', 'str: 11', 'str: 26', 'str: 13', 'str: 27', 'str: 14', 'str: 28', 'str: 15', 'str: 29', 'str: 16', 'str: 17', 'str: 30', 'str: 31', 'str: 36', 'str: 42', 'str: 32', 'str: 37', 'str: 43', 'str: 33', 'str: 38', 'str: 44', 'str: 34', 'str: 39', 'str: 45', 'str: 35', 'str: 40', 'str: 46', 'str: 41', 'str: 47', 'str: 48', 'str: 49']\n",
      "up time: 150.6628451347351\n"
     ]
    }
   ],
   "source": [
    "gov_status()"
   ]
  },
  {
   "cell_type": "code",
   "execution_count": 24,
   "metadata": {},
   "outputs": [
    {
     "name": "stdout",
     "output_type": "stream",
     "text": [
      "count:   0\n",
      "ids:     []\n",
      "up time: 151.60465502738953\n"
     ]
    }
   ],
   "source": [
    "gov.reset.remote()\n",
    "gov_status()"
   ]
  }
 ],
 "metadata": {
  "kernelspec": {
   "display_name": "Python 3",
   "language": "python",
   "name": "python3"
  },
  "language_info": {
   "codemirror_mode": {
    "name": "ipython",
    "version": 3
   },
   "file_extension": ".py",
   "mimetype": "text/x-python",
   "name": "python",
   "nbconvert_exporter": "python",
   "pygments_lexer": "ipython3",
   "version": "3.7.7"
  }
 },
 "nbformat": 4,
 "nbformat_minor": 4
}
