{
 "cells": [
  {
   "cell_type": "markdown",
   "metadata": {},
   "source": [
    "# Ray Serve Implementation of a Simulated Data Governance Server\n",
    "\n",
    "It logs the ids of records observed in a data processing pipeline.\n",
    "\n",
    "> **Note:** Run all the cells in this notebook before running [Spark-RayServiceUDF.ipynb](Spark-RayServiceUDF.ipynb).\n",
    "\n",
    "To learn more about Ray:\n",
    "* [Ray.io](http://ray.io)\n",
    "* [Ray Serve](https://docs.ray.io/en/master/rayserve/overview.html)\n",
    "\n",
    "[Dean Wampler](mailto:dean@anyscale.com)"
   ]
  },
  {
   "cell_type": "code",
   "execution_count": 1,
   "metadata": {},
   "outputs": [],
   "source": [
    "import sys, time, json, requests"
   ]
  },
  {
   "cell_type": "code",
   "execution_count": 2,
   "metadata": {},
   "outputs": [],
   "source": [
    "from ray import serve\n",
    "import ray"
   ]
  },
  {
   "cell_type": "code",
   "execution_count": 3,
   "metadata": {},
   "outputs": [],
   "source": [
    "sys.path.append('..')\n",
    "from data_governance_system import DataGovernanceSystem, Record\n",
    "from data_governance_ray_serve import init_service"
   ]
  },
  {
   "cell_type": "code",
   "execution_count": 4,
   "metadata": {},
   "outputs": [],
   "source": [
    "port = 8100"
   ]
  },
  {
   "cell_type": "code",
   "execution_count": 5,
   "metadata": {},
   "outputs": [
    {
     "name": "stderr",
     "output_type": "stream",
     "text": [
      "2020-05-18 06:31:55,009\tINFO resource_spec.py:212 -- Starting Ray with 4.15 GiB memory available for workers and up to 2.08 GiB for objects. You can adjust these settings with ray.init(memory=<bytes>, object_store_memory=<bytes>).\n",
      "2020-05-18 06:31:55,335\tINFO services.py:1170 -- View the Ray dashboard at \u001b[1m\u001b[32mlocalhost:8265\u001b[39m\u001b[22m\n"
     ]
    },
    {
     "data": {
      "text/plain": [
       "{'node_ip_address': '192.168.1.149',\n",
       " 'raylet_ip_address': '192.168.1.149',\n",
       " 'redis_address': '192.168.1.149:29731',\n",
       " 'object_store_address': '/tmp/ray/session_2020-05-18_06-31-55_001773_75974/sockets/plasma_store',\n",
       " 'raylet_socket_name': '/tmp/ray/session_2020-05-18_06-31-55_001773_75974/sockets/raylet',\n",
       " 'webui_url': 'localhost:8265',\n",
       " 'session_dir': '/tmp/ray/session_2020-05-18_06-31-55_001773_75974'}"
      ]
     },
     "execution_count": 5,
     "metadata": {},
     "output_type": "execute_result"
    }
   ],
   "source": [
    "ray.init()  # Run in local mode. Pass 'auto' to connect to a running cluster."
   ]
  },
  {
   "cell_type": "code",
   "execution_count": 6,
   "metadata": {},
   "outputs": [
    {
     "name": "stdout",
     "output_type": "stream",
     "text": [
      "Click here to open the Ray Dashboard: http://localhost:8265\n"
     ]
    }
   ],
   "source": [
    "print(f'Click here to open the Ray Dashboard: http://{ray.get_webui_url()}')"
   ]
  },
  {
   "cell_type": "code",
   "execution_count": 7,
   "metadata": {},
   "outputs": [
    {
     "name": "stdout",
     "output_type": "stream",
     "text": [
      "\u001b[2m\u001b[36m(pid=76319)\u001b[0m 2020-05-18 06:32:07,175\tINFO master.py:122 -- Starting router with name 'SERVE_ROUTER_ACTOR'\n",
      "\u001b[2m\u001b[36m(pid=76319)\u001b[0m 2020-05-18 06:32:07,179\tINFO master.py:143 -- Starting HTTP proxy with name 'SERVE_PROXY_ACTOR'\n",
      "\u001b[2m\u001b[36m(pid=76319)\u001b[0m 2020-05-18 06:32:07,184\tINFO master.py:168 -- Starting metric monitor with name 'SERVE_METRIC_MONITOR_ACTOR'\n",
      "\u001b[2m\u001b[36m(pid=76319)\u001b[0m 2020-05-18 06:32:07,197\tINFO master.py:483 -- Registering route /log to endpoint log with methods ['PUT'].\n",
      "\u001b[2m\u001b[36m(pid=76320)\u001b[0m INFO:     Started server process [76320]\n",
      "\u001b[2m\u001b[36m(pid=76320)\u001b[0m INFO:     Waiting for application startup.\n",
      "\u001b[2m\u001b[36m(pid=76320)\u001b[0m INFO:     Application startup complete.\n",
      "\u001b[2m\u001b[36m(pid=76319)\u001b[0m 2020-05-18 06:32:07,263\tINFO master.py:483 -- Registering route /ids to endpoint ids with methods ['GET'].\n",
      "\u001b[2m\u001b[36m(pid=76319)\u001b[0m 2020-05-18 06:32:07,300\tINFO master.py:483 -- Registering route /count to endpoint count with methods ['GET'].\n",
      "\u001b[2m\u001b[36m(pid=76319)\u001b[0m 2020-05-18 06:32:08,231\tINFO master.py:483 -- Registering route /reset to endpoint reset with methods ['PUT', 'GET'].\n",
      "\u001b[2m\u001b[36m(pid=76319)\u001b[0m 2020-05-18 06:32:08,888\tINFO master.py:483 -- Registering route /start_time to endpoint start_time with methods ['PUT', 'GET', 'POST'].\n",
      "\u001b[2m\u001b[36m(pid=76319)\u001b[0m 2020-05-18 06:32:09,602\tINFO master.py:483 -- Registering route /up_time to endpoint up_time with methods ['PUT', 'GET', 'POST'].\n",
      "\u001b[2m\u001b[36m(pid=76319)\u001b[0m 2020-05-18 06:32:10,283\tINFO master.py:483 -- Registering route /exit to endpoint exit with methods ['PUT', 'GET', 'POST'].\n"
     ]
    },
    {
     "data": {
      "text/plain": [
       "'ray_serve_demo'"
      ]
     },
     "execution_count": 7,
     "metadata": {},
     "output_type": "execute_result"
    }
   ],
   "source": [
    "init_service('ray_serve_demo', port)"
   ]
  },
  {
   "cell_type": "code",
   "execution_count": 8,
   "metadata": {},
   "outputs": [],
   "source": [
    "def do_test(port, num_records=10, timeout=1.0):\n",
    "    \"\"\"Try out the server.\"\"\"\n",
    "    records = [Record(i, f'data for record {i}') for i in range(num_records)] # sample \"records\"\n",
    "\n",
    "    address = f'http://127.0.0.1:{port}'\n",
    "    print(f'Putting {num_records} records... to {address}')\n",
    "    for record in records:\n",
    "        response = requests.put(f'{address}/log?id={record.record_id}', timeout=timeout)\n",
    "        print(f'log response = {response.json()}')\n",
    "\n",
    "    count = requests.get(f'{address}/count', timeout=timeout)\n",
    "    print(f'count:  {count.json()}')\n",
    "\n",
    "    ids = requests.get(f'{address}/ids', timeout=timeout)\n",
    "    print(f'ids:    {ids.json()}')\n",
    "    \n",
    "    up_time = requests.get(f'{address}/up_time', timeout=timeout)\n",
    "    print(f'uptime: {up_time.json()}')"
   ]
  },
  {
   "cell_type": "code",
   "execution_count": 9,
   "metadata": {
    "scrolled": true
   },
   "outputs": [
    {
     "name": "stdout",
     "output_type": "stream",
     "text": [
      "Putting 10 records... to http://127.0.0.1:8100\n",
      "log response = {'message': 'sent async log request for 0'}\n",
      "log response = {'message': 'sent async log request for 1'}\n",
      "log response = {'message': 'sent async log request for 2'}\n",
      "log response = {'message': 'sent async log request for 3'}\n",
      "log response = {'message': 'sent async log request for 4'}\n",
      "log response = {'message': 'sent async log request for 5'}\n",
      "log response = {'message': 'sent async log request for 6'}\n",
      "log response = {'message': 'sent async log request for 7'}\n",
      "log response = {'message': 'sent async log request for 8'}\n",
      "log response = {'message': 'sent async log request for 9'}\n",
      "count:  {'count': 10}\n",
      "ids:    {'ids': ['0', '1', '2', '3', '4', '5', '6', '7', '8', '9']}\n",
      "uptime: {'up_time': 9.21183180809021}\n"
     ]
    }
   ],
   "source": [
    "do_test(port)"
   ]
  },
  {
   "cell_type": "markdown",
   "metadata": {},
   "source": [
    "Reset (removed the logged ids)"
   ]
  },
  {
   "cell_type": "code",
   "execution_count": 10,
   "metadata": {},
   "outputs": [
    {
     "data": {
      "text/plain": [
       "<Response [200]>"
      ]
     },
     "execution_count": 10,
     "metadata": {},
     "output_type": "execute_result"
    }
   ],
   "source": [
    "requests.put(f'http://127.0.0.1:{port}/reset')"
   ]
  },
  {
   "cell_type": "code",
   "execution_count": 11,
   "metadata": {},
   "outputs": [
    {
     "name": "stdout",
     "output_type": "stream",
     "text": [
      "count now = {'count': 0}\n"
     ]
    }
   ],
   "source": [
    "count = requests.get(f'http://127.0.0.1:{port}/count')\n",
    "print(f'count now = {count.json()}')"
   ]
  },
  {
   "cell_type": "code",
   "execution_count": null,
   "metadata": {},
   "outputs": [],
   "source": []
  }
 ],
 "metadata": {
  "kernelspec": {
   "display_name": "Python 3",
   "language": "python",
   "name": "python3"
  },
  "language_info": {
   "codemirror_mode": {
    "name": "ipython",
    "version": 3
   },
   "file_extension": ".py",
   "mimetype": "text/x-python",
   "name": "python",
   "nbconvert_exporter": "python",
   "pygments_lexer": "ipython3",
   "version": "3.7.7"
  }
 },
 "nbformat": 4,
 "nbformat_minor": 4
}
