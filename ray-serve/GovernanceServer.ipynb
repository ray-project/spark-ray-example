{
 "cells": [
  {
   "cell_type": "markdown",
   "metadata": {},
   "source": [
    "# Ray Serve implementation of a simulated data governance server\n",
    "\n",
    "It logs the ids of records observed in a data processing pipeline."
   ]
  },
  {
   "cell_type": "code",
   "execution_count": 1,
   "metadata": {},
   "outputs": [],
   "source": [
    "import sys, time, json, requests"
   ]
  },
  {
   "cell_type": "code",
   "execution_count": 2,
   "metadata": {},
   "outputs": [],
   "source": [
    "from ray import serve\n",
    "import ray"
   ]
  },
  {
   "cell_type": "code",
   "execution_count": 3,
   "metadata": {},
   "outputs": [],
   "source": [
    "from data_governance_server import DataGovernanceSystem, Record, init_service"
   ]
  },
  {
   "cell_type": "code",
   "execution_count": 4,
   "metadata": {},
   "outputs": [],
   "source": [
    "port = 8000"
   ]
  },
  {
   "cell_type": "code",
   "execution_count": 5,
   "metadata": {},
   "outputs": [
    {
     "name": "stderr",
     "output_type": "stream",
     "text": [
      "2020-05-16 11:16:20,909\tWARNING worker.py:809 -- When connecting to an existing cluster, _internal_config must match the cluster's _internal_config.\n"
     ]
    },
    {
     "data": {
      "text/plain": [
       "{'node_ip_address': '192.168.1.149',\n",
       " 'raylet_ip_address': '192.168.1.149',\n",
       " 'redis_address': '192.168.1.149:52525',\n",
       " 'object_store_address': '/tmp/ray/session_2020-05-16_11-15-44_430322_38090/sockets/plasma_store',\n",
       " 'raylet_socket_name': '/tmp/ray/session_2020-05-16_11-15-44_430322_38090/sockets/raylet',\n",
       " 'webui_url': 'localhost:8265',\n",
       " 'session_dir': '/tmp/ray/session_2020-05-16_11-15-44_430322_38090'}"
      ]
     },
     "execution_count": 5,
     "metadata": {},
     "output_type": "execute_result"
    }
   ],
   "source": [
    "ray.init('auto')"
   ]
  },
  {
   "cell_type": "code",
   "execution_count": 6,
   "metadata": {},
   "outputs": [],
   "source": [
    "serve.init(http_port=port)"
   ]
  },
  {
   "cell_type": "code",
   "execution_count": 7,
   "metadata": {},
   "outputs": [
    {
     "name": "stdout",
     "output_type": "stream",
     "text": [
      "Click here to open the Ray Dashboard: http://localhost:8265\n"
     ]
    }
   ],
   "source": [
    "print(f'Click here to open the Ray Dashboard: http://{ray.get_webui_url()}')"
   ]
  },
  {
   "cell_type": "code",
   "execution_count": 8,
   "metadata": {},
   "outputs": [
    {
     "name": "stdout",
     "output_type": "stream",
     "text": [
      "\u001b[2m\u001b[36m(pid=38105)\u001b[0m 2020-05-16 11:16:21,465\tINFO master.py:122 -- Starting router with name 'SERVE_ROUTER_ACTOR'\n",
      "\u001b[2m\u001b[36m(pid=38105)\u001b[0m 2020-05-16 11:16:21,468\tINFO master.py:143 -- Starting HTTP proxy with name 'SERVE_PROXY_ACTOR'\n",
      "\u001b[2m\u001b[36m(pid=38105)\u001b[0m 2020-05-16 11:16:21,472\tINFO master.py:168 -- Starting metric monitor with name 'SERVE_METRIC_MONITOR_ACTOR'\n",
      "\u001b[2m\u001b[36m(pid=38105)\u001b[0m 2020-05-16 11:16:21,486\tINFO master.py:483 -- Registering route /log to endpoint log with methods ['PUT'].\n",
      "\u001b[2m\u001b[36m(pid=38105)\u001b[0m 2020-05-16 11:16:21,544\tINFO master.py:483 -- Registering route /ids to endpoint ids with methods ['GET'].\n",
      "\u001b[2m\u001b[36m(pid=38101)\u001b[0m INFO:     Started server process [38101]\n",
      "\u001b[2m\u001b[36m(pid=38101)\u001b[0m INFO:     Waiting for application startup.\n",
      "\u001b[2m\u001b[36m(pid=38101)\u001b[0m INFO:     Application startup complete.\n",
      "\u001b[2m\u001b[36m(pid=38105)\u001b[0m 2020-05-16 11:16:21,575\tINFO master.py:483 -- Registering route /count to endpoint count with methods ['GET'].\n",
      "\u001b[2m\u001b[36m(pid=38105)\u001b[0m 2020-05-16 11:16:22,204\tINFO master.py:483 -- Registering route /reset to endpoint reset with methods ['PUT', 'GET'].\n",
      "\u001b[2m\u001b[36m(pid=38105)\u001b[0m 2020-05-16 11:16:22,841\tINFO master.py:483 -- Registering route /start_time to endpoint start_time with methods ['PUT', 'GET', 'POST'].\n",
      "\u001b[2m\u001b[36m(pid=38105)\u001b[0m 2020-05-16 11:16:23,484\tINFO master.py:483 -- Registering route /up_time to endpoint up_time with methods ['PUT', 'GET', 'POST'].\n",
      "\u001b[2m\u001b[36m(pid=38105)\u001b[0m 2020-05-16 11:16:24,127\tINFO master.py:483 -- Registering route /exit to endpoint exit with methods ['PUT', 'GET', 'POST'].\n"
     ]
    },
    {
     "data": {
      "text/plain": [
       "'dgs'"
      ]
     },
     "execution_count": 8,
     "metadata": {},
     "output_type": "execute_result"
    }
   ],
   "source": [
    "init_service()"
   ]
  },
  {
   "cell_type": "code",
   "execution_count": 9,
   "metadata": {},
   "outputs": [],
   "source": [
    "def do_test(port, num_records=10, timeout=1.0):\n",
    "    \"\"\"Try out the server.\"\"\"\n",
    "    records = [Record(i, f'data for record {i}') for i in range(num_records)] # sample \"records\"\n",
    "\n",
    "    address = f'http://127.0.0.1:{port}'\n",
    "    print(f'Putting {num_records} records... to {address}')\n",
    "    for record in records:\n",
    "        response = requests.put(f'{address}/log?id={record.record_id}', timeout=timeout)\n",
    "        print(f'log response = {response.json()}')\n",
    "\n",
    "    count = requests.get(f'{address}/count', timeout=timeout)\n",
    "    print(f'count:  {count.json()}')\n",
    "\n",
    "    ids = requests.get(f'{address}/ids', timeout=timeout)\n",
    "    print(f'ids:    {ids.json()}')\n",
    "    \n",
    "    up_time = requests.get(f'{address}/up_time', timeout=timeout)\n",
    "    print(f'uptime: {up_time.json()}')"
   ]
  },
  {
   "cell_type": "code",
   "execution_count": 10,
   "metadata": {
    "scrolled": true
   },
   "outputs": [
    {
     "name": "stdout",
     "output_type": "stream",
     "text": [
      "Putting 10 records... to http://127.0.0.1:8000\n",
      "log response = {'message': 'sent async log request for 0'}\n",
      "log response = {'message': 'sent async log request for 1'}\n",
      "log response = {'message': 'sent async log request for 2'}\n",
      "log response = {'message': 'sent async log request for 3'}\n",
      "log response = {'message': 'sent async log request for 4'}\n",
      "log response = {'message': 'sent async log request for 5'}\n",
      "log response = {'message': 'sent async log request for 6'}\n",
      "log response = {'message': 'sent async log request for 7'}\n",
      "log response = {'message': 'sent async log request for 8'}\n",
      "log response = {'message': 'sent async log request for 9'}\n",
      "count:  {'count': 10}\n",
      "ids:    {'ids': ['0', '1', '2', '3', '4', '5', '6', '7', '8', '9']}\n",
      "uptime: {'up_time': 4.391387939453125}\n"
     ]
    }
   ],
   "source": [
    "do_test(port)"
   ]
  },
  {
   "cell_type": "markdown",
   "metadata": {},
   "source": [
    "Reset (removed the logged ids)"
   ]
  },
  {
   "cell_type": "code",
   "execution_count": 11,
   "metadata": {},
   "outputs": [
    {
     "data": {
      "text/plain": [
       "<Response [200]>"
      ]
     },
     "execution_count": 11,
     "metadata": {},
     "output_type": "execute_result"
    }
   ],
   "source": [
    "requests.put(f'http://127.0.0.1:{port}/reset')"
   ]
  },
  {
   "cell_type": "code",
   "execution_count": 12,
   "metadata": {},
   "outputs": [
    {
     "name": "stdout",
     "output_type": "stream",
     "text": [
      "count now = {'count': 0}\n",
      "\u001b[2m\u001b[36m(pid=38357)\u001b[0m 2020-05-16 11:22:05,832\tERROR worker.py:421 -- SystemExit was raised from the worker\n",
      "\u001b[2m\u001b[36m(pid=38357)\u001b[0m Traceback (most recent call last):\n",
      "\u001b[2m\u001b[36m(pid=38357)\u001b[0m   File \"python/ray/_raylet.pyx\", line 531, in ray._raylet.task_execution_handler\n",
      "\u001b[2m\u001b[36m(pid=38357)\u001b[0m   File \"python/ray/_raylet.pyx\", line 419, in ray._raylet.execute_task\n",
      "\u001b[2m\u001b[36m(pid=38357)\u001b[0m   File \"python/ray/_raylet.pyx\", line 459, in ray._raylet.execute_task\n",
      "\u001b[2m\u001b[36m(pid=38357)\u001b[0m   File \"python/ray/_raylet.pyx\", line 462, in ray._raylet.execute_task\n",
      "\u001b[2m\u001b[36m(pid=38357)\u001b[0m   File \"python/ray/_raylet.pyx\", line 463, in ray._raylet.execute_task\n",
      "\u001b[2m\u001b[36m(pid=38357)\u001b[0m   File \"<ipython-input-25-8bf5106e4d29>\", line 5, in ray_log_record\n",
      "\u001b[2m\u001b[36m(pid=38357)\u001b[0m   File \"/Users/deanwampler/anaconda3/envs/spark/lib/python3.7/site-packages/ray/worker.py\", line 1508, in get\n",
      "\u001b[2m\u001b[36m(pid=38357)\u001b[0m     values = worker.get_objects(object_ids, timeout=timeout)\n",
      "\u001b[2m\u001b[36m(pid=38357)\u001b[0m   File \"/Users/deanwampler/anaconda3/envs/spark/lib/python3.7/site-packages/ray/worker.py\", line 306, in get_objects\n",
      "\u001b[2m\u001b[36m(pid=38357)\u001b[0m     object_ids, self.current_task_id, timeout_ms)\n",
      "\u001b[2m\u001b[36m(pid=38357)\u001b[0m   File \"/Users/deanwampler/anaconda3/envs/spark/lib/python3.7/site-packages/ray/worker.py\", line 418, in sigterm_handler\n",
      "\u001b[2m\u001b[36m(pid=38357)\u001b[0m     sys.exit(1)\n",
      "\u001b[2m\u001b[36m(pid=38357)\u001b[0m SystemExit: 1\n"
     ]
    }
   ],
   "source": [
    "count = requests.get(f'http://127.0.0.1:{port}/count')\n",
    "print(f'count now = {count.json()}')"
   ]
  },
  {
   "cell_type": "code",
   "execution_count": null,
   "metadata": {},
   "outputs": [],
   "source": []
  }
 ],
 "metadata": {
  "kernelspec": {
   "display_name": "Python 3",
   "language": "python",
   "name": "python3"
  },
  "language_info": {
   "codemirror_mode": {
    "name": "ipython",
    "version": 3
   },
   "file_extension": ".py",
   "mimetype": "text/x-python",
   "name": "python",
   "nbconvert_exporter": "python",
   "pygments_lexer": "ipython3",
   "version": "3.7.7"
  }
 },
 "nbformat": 4,
 "nbformat_minor": 4
}
